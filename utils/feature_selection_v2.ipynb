{
 "cells": [
  {
   "cell_type": "code",
   "execution_count": 1,
   "metadata": {
    "collapsed": false
   },
   "outputs": [
    {
     "name": "stderr",
     "output_type": "stream",
     "text": [
      "/home/jogi/.local/lib/python2.7/site-packages/sklearn/cross_validation.py:44: DeprecationWarning: This module was deprecated in version 0.18 in favor of the model_selection module into which all the refactored classes and functions are moved. Also note that the interface of the new CV iterators are different from that of this module. This module will be removed in 0.20.\n",
      "  \"This module will be removed in 0.20.\", DeprecationWarning)\n"
     ]
    }
   ],
   "source": [
    "from __future__ import print_function\n",
    "\n",
    "import os\n",
    "import sys\n",
    "sys.path.append('/home/jogi/git/repository/smart_play_set')\n",
    "from itertools import compress\n",
    "\n",
    "import matplotlib.pyplot as plt\n",
    "import pandas as pd\n",
    "import numpy as np\n",
    "from scipy import fft, arange, fftpack\n",
    "\n",
    "from utils.smart_utils import get_dir_path, tensor_to_pandas, load_hdf5_file\n",
    "from utils.smart_utils import get_array_filenames, split_on_classes, create_row_mask\n",
    "from preprocessing.process_data import get_data\n",
    "\n",
    "from utils.plot_utils import plot_spectra_1axis, plot_spectra_3axis\n",
    "from utils.plot_utils import plot_3axis_raw_signal_1, plot_3axis_raw_signal_compare\n",
    "from utils.plot_utils import single_file_plots, load_file_to_pandas\n",
    "\n",
    "from sklearn.preprocessing import normalize\n",
    "from sklearn.metrics import r2_score, accuracy_score\n",
    "from sklearn.naive_bayes import GaussianNB\n",
    "from sklearn import svm\n",
    "from sklearn import tree\n",
    "from sklearn.ensemble import GradientBoostingClassifier, RandomForestClassifier\n",
    "from xgboost.sklearn import XGBClassifier\n",
    "from sklearn import cross_validation\n",
    "from sklearn.model_selection import cross_val_predict\n",
    "from ReliefF import ReliefF\n",
    "from sklearn.feature_selection import RFE\n",
    "from sklearn.feature_selection import SelectKBest, mutual_info_classif, f_classif\n",
    "from sklearn.pipeline import make_pipeline\n",
    "\n",
    "%matplotlib inline \n"
   ]
  },
  {
   "cell_type": "code",
   "execution_count": 20,
   "metadata": {
    "collapsed": true
   },
   "outputs": [],
   "source": [
    "def plot_results(cls, scores, acc_stdev, xlabel, ylabel, title):\n",
    "    # Plot the normalized residual\n",
    "    n, bins, _ = plt.hist(cls, scores) #, color='y')\n",
    "    \n",
    "    mid = 0.5*(bins[1:] + bins[:-1])\n",
    "    plt.errorbar(mid, n, yerr=acc_stdev, fmt='none')\n",
    "    plt.xlabel(xlabel)\n",
    "    plt.ylabel(ylabel) \n",
    "    plt.title(title)\n",
    "    plt.show()"
   ]
  },
  {
   "cell_type": "code",
   "execution_count": 6,
   "metadata": {
    "collapsed": false
   },
   "outputs": [
    {
     "name": "stdout",
     "output_type": "stream",
     "text": [
      "INFO - Used data label 20160921_futurocube_roadrunner_20hz_1axis_low8hz_27_12_1\n",
      "INFO Loading matrices from h5 file /home/jogi/git/repository/smart_play_set/data/futurocube/roadrunner/20160921_futurocube_roadrunner_20hz_1axis_low8hz_27_12_1.h5\n",
      "('INFO - List of arrays in this file: \\n', [u'feature_data', u'label_data'])\n",
      "INFO - Loading data description from json.\n",
      "(27, 12)\n",
      "(27,)\n",
      "[u'minf', u'maxf', u'mean', u'std', u'median', u'range', u'rms', u'int_squared_jerk', u'dc', u'energy', u'power_spec_entropy', u'dxdy_error']\n",
      "low\n",
      "[8, 0.0, 5]\n",
      "True\n"
     ]
    }
   ],
   "source": [
    "train_data_1, train_labels_1, dta_dict_1 = get_data('20160921', force=False, apply_window_func=True, calc_mag=True,\n",
    "                                              extra_label=\"20hz_1axis_low8hz_27_12_1\", optimal_w_size=False,\n",
    "                                                   f_type='low', lowcut=8, highcut=0., b_order=5)\n",
    "                                     \n",
    "                # calc_mag=True, f_type=\"lowhigh\", lowcut=2, highcut=0.1, b_order=5)\n",
    "        \n",
    "# for cross validation train data has to have 2 dim tensor\n",
    "train_data_1_r = np.reshape(train_data_1, (train_data_1.shape[0], train_data_1.shape[1] * train_data_1.shape[2]))\n",
    "# for cross validation train labels has to have 1 dim tensor\n",
    "train_labels_1_r = np.reshape(train_labels_1, (train_labels_1.shape[0]))\n",
    "print(train_data_1_r.shape)\n",
    "print(train_labels_1_r.shape)\n",
    "print(dta_dict_1[\"features\"])\n",
    "print(dta_dict_1[\"filter\"])\n",
    "print(dta_dict_1[\"filter_specs\"])\n",
    "print(dta_dict_1[\"window_func\"])\n",
    "num_of_features_1 = len(dta_dict_1[\"features\"])\n",
    "features1 = dta_dict_1[\"features\"]\n",
    "num_of_windows1 = dta_dict_1[\"num_of_windows\"]"
   ]
  },
  {
   "cell_type": "code",
   "execution_count": 3,
   "metadata": {
    "collapsed": false
   },
   "outputs": [
    {
     "name": "stdout",
     "output_type": "stream",
     "text": [
      "INFO - Used data label 20160921_futurocube_roadrunner_20hz_1axis_low8hz_27_11_1\n",
      "INFO Loading matrices from h5 file /home/jogi/git/repository/smart_play_set/data/futurocube/roadrunner/20160921_futurocube_roadrunner_20hz_1axis_low8hz_27_11_1.h5\n",
      "('INFO - List of arrays in this file: \\n', [u'feature_data', u'label_data'])\n",
      "INFO - Loading data description from json.\n",
      "(27, 11)\n",
      "(27,)\n",
      "[u'minf', u'maxf', u'mean', u'std', u'median', u'range', u'rms', u'mean_squared_jerk', u'dc', u'energy', u'power_spec_entropy']\n",
      "low\n",
      "[8, 0.0, 5]\n",
      "True\n"
     ]
    }
   ],
   "source": [
    "train_data_2, train_labels_2, dta_dict_2 = get_data('20160921', force=False, apply_window_func=True, calc_mag=True,\n",
    "                                              extra_label=\"20hz_1axis_low8hz_27_11_1\", optimal_w_size=False,\n",
    "                                                   f_type='low', lowcut=8, b_order=5)\n",
    "\n",
    "# for cross validation train data has to have 2 dim tensor\n",
    "train_data_2_r = np.reshape(train_data_2, (train_data_2.shape[0], train_data_2.shape[1] * train_data_2.shape[2]))\n",
    "# for cross validation train labels has to have 1 dim tensor\n",
    "train_labels_2_r = np.reshape(train_labels_2, (train_labels_2.shape[0]))\n",
    "print(train_data_2_r.shape)\n",
    "print(train_labels_2_r.shape)\n",
    "\n",
    "print(dta_dict_2[\"features\"])\n",
    "print(dta_dict_2[\"filter\"])\n",
    "print(dta_dict_2[\"filter_specs\"])\n",
    "print(dta_dict_2[\"window_func\"])\n",
    "num_of_features_2 = len(dta_dict_2[\"features\"])\n",
    "features2 = dta_dict_2[\"features\"]\n",
    "num_of_windows2 = dta_dict_2[\"num_of_windows\"]"
   ]
  },
  {
   "cell_type": "code",
   "execution_count": 4,
   "metadata": {
    "collapsed": false
   },
   "outputs": [
    {
     "name": "stdout",
     "output_type": "stream",
     "text": [
      "Use set train_data_2 !\n",
      "--------------------------------------------------------------\n",
      "Keep 11, top feature list: power_spec_entropy, energy, dc, mean_squared_jerk, rms, range, median, std, mean, maxf, minf\n",
      "SVM - Accuracy: 0.70 (+/- 0.10)\n",
      "rfc - Accuracy: 0.70 (+/- 0.10)\n",
      "xgb - Accuracy: 0.70 (+/- 0.10)\n",
      "gnb - Accuracy: 0.67 (+/- 0.00)\n",
      "--------------------------------------------------------------\n",
      "Keep 10, top feature list: power_spec_entropy, energy, dc, mean_squared_jerk, rms, range, median, std, mean, maxf\n",
      "SVM - Accuracy: 0.74 (+/- 0.21)\n",
      "rfc - Accuracy: 0.74 (+/- 0.21)\n",
      "xgb - Accuracy: 0.74 (+/- 0.21)\n",
      "gnb - Accuracy: 0.67 (+/- 0.00)\n",
      "--------------------------------------------------------------\n",
      "Keep 9, top feature list: power_spec_entropy, energy, dc, mean_squared_jerk, rms, range, median, std, mean\n",
      "SVM - Accuracy: 0.74 (+/- 0.21)\n",
      "rfc - Accuracy: 0.74 (+/- 0.21)\n",
      "xgb - Accuracy: 0.74 (+/- 0.21)\n",
      "gnb - Accuracy: 0.67 (+/- 0.00)\n",
      "--------------------------------------------------------------\n",
      "Keep 8, top feature list: power_spec_entropy, energy, dc, mean_squared_jerk, rms, range, median, std\n",
      "SVM - Accuracy: 0.74 (+/- 0.21)\n",
      "rfc - Accuracy: 0.74 (+/- 0.21)\n",
      "xgb - Accuracy: 0.74 (+/- 0.21)\n",
      "gnb - Accuracy: 0.67 (+/- 0.00)\n",
      "--------------------------------------------------------------\n",
      "Keep 7, top feature list: power_spec_entropy, energy, dc, mean_squared_jerk, rms, range, median\n",
      "SVM - Accuracy: 0.78 (+/- 0.18)\n",
      "rfc - Accuracy: 0.78 (+/- 0.18)\n",
      "xgb - Accuracy: 0.78 (+/- 0.18)\n",
      "gnb - Accuracy: 0.70 (+/- 0.10)\n",
      "--------------------------------------------------------------\n",
      "Keep 6, top feature list: power_spec_entropy, energy, dc, mean_squared_jerk, rms, range\n",
      "SVM - Accuracy: 0.78 (+/- 0.00)\n",
      "rfc - Accuracy: 0.78 (+/- 0.00)\n",
      "xgb - Accuracy: 0.78 (+/- 0.00)\n",
      "gnb - Accuracy: 0.74 (+/- 0.21)\n",
      "--------------------------------------------------------------\n",
      "Keep 5, top feature list: power_spec_entropy, energy, dc, mean_squared_jerk, rms\n",
      "SVM - Accuracy: 0.70 (+/- 0.10)\n",
      "rfc - Accuracy: 0.70 (+/- 0.10)\n",
      "xgb - Accuracy: 0.70 (+/- 0.10)\n",
      "gnb - Accuracy: 0.74 (+/- 0.21)\n",
      "--------------------------------------------------------------\n",
      "Keep 4, top feature list: power_spec_entropy, energy, dc, mean_squared_jerk\n",
      "SVM - Accuracy: 0.78 (+/- 0.00)\n",
      "rfc - Accuracy: 0.78 (+/- 0.00)\n",
      "xgb - Accuracy: 0.78 (+/- 0.00)\n",
      "gnb - Accuracy: 0.74 (+/- 0.21)\n",
      "--------------------------------------------------------------\n",
      "Keep 3, top feature list: power_spec_entropy, energy, dc\n",
      "SVM - Accuracy: 0.56 (+/- 0.18)\n",
      "rfc - Accuracy: 0.56 (+/- 0.18)\n",
      "xgb - Accuracy: 0.56 (+/- 0.18)\n",
      "gnb - Accuracy: 0.63 (+/- 0.28)\n",
      "--------------------------------------------------------------\n",
      "Keep 2, top feature list: power_spec_entropy, energy\n",
      "SVM - Accuracy: 0.59 (+/- 0.21)\n",
      "rfc - Accuracy: 0.59 (+/- 0.21)\n",
      "xgb - Accuracy: 0.59 (+/- 0.21)\n",
      "gnb - Accuracy: 0.63 (+/- 0.10)\n",
      "--------------------------------------------------------------\n",
      "Keep 1, top feature list: power_spec_entropy\n",
      "SVM - Accuracy: 0.63 (+/- 0.10)\n",
      "rfc - Accuracy: 0.63 (+/- 0.10)\n",
      "xgb - Accuracy: 0.63 (+/- 0.10)\n",
      "gnb - Accuracy: 0.52 (+/- 0.10)\n"
     ]
    }
   ],
   "source": [
    "use_1 = False\n",
    "apply_mask = False\n",
    "classifiers = ['SVM', 'RF', 'XGB', 'GNB']\n",
    "res_svm_mean = []\n",
    "res_svm_std = []\n",
    "res_rfc_mean = []\n",
    "res_rfc_std = []\n",
    "res_xgb_mean = []\n",
    "res_xgb_std = []\n",
    "res_gnb_mean = []\n",
    "res_gnb_std = []\n",
    "kept_feature_lists = []\n",
    "\n",
    "if use_1:\n",
    "    print(\"Use set train_data_1 !\")\n",
    "    dta_train = train_data_1_r\n",
    "    lbl_train = train_labels_1_r\n",
    "    num_of_features = num_of_features_1\n",
    "    features = features1\n",
    "    num_of_windows = num_of_windows1\n",
    "else:\n",
    "    print(\"Use set train_data_2 !\")\n",
    "    dta_train = train_data_2_r\n",
    "    lbl_train = train_labels_2_r\n",
    "    num_of_features = num_of_features_2\n",
    "    features = features2\n",
    "    num_of_windows = num_of_windows2\n",
    "\n",
    "for d in np.arange(num_of_features, 0, -1):\n",
    "    idx = d\n",
    "    fs = ReliefF(n_neighbors=10, n_features_to_keep=idx)\n",
    "    X_train_2 = fs.fit_transform(dta_train, lbl_train)\n",
    "    X_train_2 = fs.transform(dta_train)\n",
    "    f_list = [features[i] for i in fs.top_features]\n",
    "    print(\"--------------------------------------------------------------\")\n",
    "    print(\"Keep %d, top feature list: %s\" % (idx, ', '.join(f_list[:idx])))\n",
    "    kept_feature_lists.append(', '.join(f_list[:idx]))\n",
    "\n",
    "    if apply_mask:\n",
    "        multiplier = int(X_train_2.shape[0]/num_of_windows)\n",
    "        b_mask = create_row_mask([False, True, True], multiplier)\n",
    "        X_train_2 = X_train_2[b_mask, :]\n",
    "        lbl_train_subset = lbl_train[b_mask]\n",
    "    else:\n",
    "        lbl_train_subset = lbl_train\n",
    "    \n",
    "    clf = svm.SVC(kernel='rbf', C=1)\n",
    "    scores_svm = cross_validation.cross_val_score(clf, X_train_2, lbl_train_subset, cv=3)\n",
    "    # predicted = cross_val_predict(clf, X_train_f, train_labels_f_r, cv=8)\n",
    "    # print(predicted)\n",
    "    # scores = accuracy_score(train_labels_r, predicted) \n",
    "    print(\"SVM - Accuracy: %0.2f (+/- %0.2f)\" % (scores_svm.mean(), scores_svm.std() * 2))\n",
    "    res_svm_mean.append(scores_svm.mean())\n",
    "    res_svm_std.append(scores_svm.std())\n",
    "    \n",
    "    rfc = RandomForestClassifier(random_state=1, n_estimators=150, min_samples_split=8, min_samples_leaf=4)\n",
    "    scores_rfc = cross_validation.cross_val_score(clf, X_train_2, lbl_train_subset, cv=3)\n",
    "    print(\"rfc - Accuracy: %0.2f (+/- %0.2f)\" % (scores_rfc.mean(), scores_rfc.std() * 2))\n",
    "    res_rfc_mean.append(scores_rfc.mean())\n",
    "    res_rfc_std.append(scores_rfc.std())\n",
    "    \n",
    "    xgb = XGBClassifier(learning_rate=0.1, n_estimators=300, max_depth=5, min_child_weight=2, gamma=0.1,\n",
    "                         subsample=0.8, colsample_bytree=0.8, objective= 'binary:logistic', nthread=4,\n",
    "                         scale_pos_weight=1, seed=27)\n",
    "    scores_xgb = cross_validation.cross_val_score(clf, X_train_2, lbl_train_subset, cv=3)\n",
    "    print(\"xgb - Accuracy: %0.2f (+/- %0.2f)\" % (scores_xgb.mean(), scores_xgb.std() * 2))\n",
    "    res_xgb_mean.append(scores_xgb.mean())\n",
    "    res_xgb_std.append(scores_xgb.std())\n",
    "    \n",
    "    gnb = GaussianNB()\n",
    "    scores_gnb = cross_validation.cross_val_score(gnb, X_train_2, lbl_train_subset, cv=3)\n",
    "    print(\"gnb - Accuracy: %0.2f (+/- %0.2f)\" % (scores_gnb.mean(), scores_gnb.std() * 2))\n",
    "    res_gnb_mean.append(scores_gnb.mean())\n",
    "    res_gnb_std.append(scores_gnb.std())\n",
    "    \n",
    "\n",
    "res_svm_mean = np.asarray(res_svm_mean)\n",
    "res_svm_std  = np.asarray(res_svm_std)\n",
    "res_rfc_mean = np.asarray(res_rfc_mean)\n",
    "res_rfc_std  = np.asarray(res_rfc_std)\n",
    "res_xgb_mean = np.asarray(res_xgb_mean)\n",
    "res_xgb_std  = np.asarray(res_xgb_std)\n",
    "res_gnb_mean = np.asarray(res_gnb_mean)\n",
    "res_gnb_std  = np.asarray(res_gnb_std)"
   ]
  },
  {
   "cell_type": "code",
   "execution_count": 31,
   "metadata": {
    "collapsed": false
   },
   "outputs": [
    {
     "data": {
      "image/png": "[encoded data removed]",
      "text/plain": [
       "<matplotlib.figure.Figure at 0x7f8373ef1fd0>"
      ]
     },
     "metadata": {},
     "output_type": "display_data"
    }
   ],
   "source": [
    "# plot_results(classifiers, scores, std, 'Classifiers', 'Accuracy score', \"Classifier accuracy scores\")\n",
    "\n",
    "title = \"Backward feature selection with ReliefF: accuracy scores of classifiers with decreased # of features\"\n",
    "xlabel = 'Number of features'\n",
    "ylabel = \"Classifier accuracy scores\"\n",
    "num_of_features = len(res_svm_mean)\n",
    "bar_width = 0.15\n",
    "opacity = 0.4\n",
    "error_config = {'ecolor': '0.3'}\n",
    "ind = np.arange(num_of_features, 0, -1)\n",
    "\n",
    "fig, ax = plt.subplots(2,1, figsize=(25, 15))\n",
    "ax[0].bar(ind, res_svm_mean, bar_width, color='g', yerr=(res_svm_std * 2), label=classifiers[0],\n",
    "          alpha=opacity, error_kw=error_config)\n",
    "ax[0].bar(ind + bar_width, res_rfc_mean, bar_width, color='r', yerr=(res_rfc_std * 2), label=classifiers[1],\n",
    "           alpha=opacity, error_kw=error_config)\n",
    "ax[0].bar(ind + (2 * bar_width), res_xgb_mean, bar_width, color='b', yerr=(res_xgb_std * 2), label=classifiers[2],\n",
    "           alpha=opacity, error_kw=error_config)\n",
    "ax[0].bar(ind + (3 * bar_width), res_gnb_mean, bar_width, color='y', yerr=(res_gnb_std * 2), label=classifiers[3],\n",
    "           alpha=opacity, error_kw=error_config)\n",
    "\n",
    "ax[0].set_xticks(np.arange(1, num_of_features+1)+ (2 * bar_width))\n",
    "ax[0].set_xticklabels(ind)\n",
    "ax[0].set_xlabel(xlabel)\n",
    "ax[0].set_ylabel(ylabel) \n",
    "ax[0].set_title(title)\n",
    "plt.xticks(rotation=90)\n",
    "ax[0].legend(loc=\"best\")\n",
    "\n",
    "f_list_2d = []\n",
    "for i, f_list in enumerate(kept_feature_lists):\n",
    "    f_list = f_list.split(',') \n",
    "    f_list.extend(\" \" * (num_of_features - len(f_list)))\n",
    "    f_list_2d.append(f_list)   # [x for _, x in enumerate (f_list)]\n",
    "\n",
    "f_list_2d = zip(*f_list_2d)\n",
    "clust_data = np.random.random((num_of_features,num_of_features))\n",
    "collabel=(ind)\n",
    "ax[1].axis('tight')\n",
    "ax[1].axis('off')\n",
    "colors = plt.cm.BuPu(np.linspace(0, 0.5, num_of_features))\n",
    "\n",
    "the_table = ax[1].table(cellText=f_list_2d,colLabels=collabel,loc='center', colColours=colors)\n",
    "the_table.set_fontsize(14)\n",
    "# the_table.scale(1.5, 1.5)\n",
    "plt.savefig(\"/home/jogi/git/repository/smart_play_set/images/f_selection_1.jpg\", bbox_inches='tight')\n",
    "\n"
   ]
  },
  {
   "cell_type": "code",
   "execution_count": 25,
   "metadata": {
    "collapsed": false,
    "scrolled": false
   },
   "outputs": [
    {
     "data": {
      "image/png": "[encoded data removed]",
      "text/plain": [
       "<matplotlib.figure.Figure at 0x7f837390bdd0>"
      ]
     },
     "metadata": {},
     "output_type": "display_data"
    }
   ],
   "source": [
    "# plot_results(classifiers, scores, std, 'Classifiers', 'Accuracy score', \"Classifier accuracy scores\")\n",
    "\n",
    "title = \"Backward feature selection with ReliefF: accuracy scores of classifiers with decreased # of features\"\n",
    "xlabel = 'Number of features'\n",
    "ylabel = \"Classifier accuracy scores\"\n",
    "num_of_features = len(res_svm_mean)\n",
    "bar_width = 0.15\n",
    "opacity = 0.4\n",
    "error_config = {'ecolor': '0.3'}\n",
    "ind = np.arange(num_of_features, 0, -1)\n",
    "\n",
    "fig, ax = plt.subplots(figsize=(20, 10))\n",
    "plt.bar(ind, res_svm_mean, bar_width, color='g', yerr=(res_svm_std * 2), label=classifiers[0],\n",
    "          alpha=opacity, error_kw=error_config)\n",
    "plt.bar(ind + bar_width, res_rfc_mean, bar_width, color='r', yerr=(res_rfc_std * 2), label=classifiers[1],\n",
    "           alpha=opacity, error_kw=error_config)\n",
    "plt.bar(ind + (2 * bar_width), res_xgb_mean, bar_width, color='b', yerr=(res_xgb_std * 2), label=classifiers[2],\n",
    "           alpha=opacity, error_kw=error_config)\n",
    "plt.bar(ind + (3 * bar_width), res_gnb_mean, bar_width, color='y', yerr=(res_gnb_std * 2), label=classifiers[3],\n",
    "           alpha=opacity, error_kw=error_config)\n",
    "\n",
    "plt.xticks([])\n",
    "plt.ylabel(ylabel) \n",
    "plt.title(title)\n",
    "plt.legend(loc=\"best\")\n",
    "\n",
    "f_list_2d = []\n",
    "for i, f_list in enumerate(kept_feature_lists):\n",
    "    f_list = f_list.split(',') \n",
    "    f_list.extend(\" \" * (num_of_features - len(f_list)))\n",
    "    f_list_2d.append(f_list)   # [x for _, x in enumerate (f_list)]\n",
    "\n",
    "# transpose 2d list\n",
    "f_list_2d = zip(*f_list_2d)\n",
    "clust_data = np.random.random((num_of_features,num_of_features))\n",
    "collabel=(ind)\n",
    "\n",
    "colors = plt.cm.BuPu(np.linspace(0, 0.5, num_of_features))\n",
    "plt.subplots_adjust(left=0.2, bottom=0.2)\n",
    "rows = []\n",
    "rows.extend(\" \" * num_of_features)\n",
    "rows[0] = \"# of features\"\n",
    "the_table = plt.table(cellText=f_list_2d,colLabels=collabel, colColours=colors, loc='bottom', rowLabels=rows)\n",
    "\n",
    "\n",
    "\n",
    "plt.savefig(\"/home/jogi/git/repository/smart_play_set/images/f_selection_1.jpg\", bbox_inches='tight')\n",
    "\n"
   ]
  },
  {
   "cell_type": "code",
   "execution_count": 83,
   "metadata": {
    "collapsed": false
   },
   "outputs": [
    {
     "name": "stdout",
     "output_type": "stream",
     "text": [
      "Use set train_data_2 !\n",
      "Keep feature(s) int_squared_jerk\n",
      "[False False False False False False False  True False False False]\n",
      "[ 6  8  3  7  4 11  9  1  5  2 10]\n"
     ]
    },
    {
     "name": "stderr",
     "output_type": "stream",
     "text": [
      "/home/jogi/.local/lib/python2.7/site-packages/ipykernel/__main__.py:31: VisibleDeprecationWarning: boolean index did not match indexed array along dimension 0; dimension is 27 but corresponding boolean dimension is 45\n"
     ]
    },
    {
     "ename": "IndexError",
     "evalue": "index 27 is out of bounds for axis 0 with size 27",
     "output_type": "error",
     "traceback": [
      "\u001b[1;31m---------------------------------------------------------------------------\u001b[0m",
      "\u001b[1;31mIndexError\u001b[0m                                Traceback (most recent call last)",
      "\u001b[1;32m<ipython-input-83-d09542fabd6e>\u001b[0m in \u001b[0;36m<module>\u001b[1;34m()\u001b[0m\n\u001b[0;32m     29\u001b[0m     \u001b[0mmultiplier\u001b[0m \u001b[1;33m=\u001b[0m \u001b[0mint\u001b[0m\u001b[1;33m(\u001b[0m\u001b[0mdta_train_subset\u001b[0m\u001b[1;33m.\u001b[0m\u001b[0mshape\u001b[0m\u001b[1;33m[\u001b[0m\u001b[1;36m0\u001b[0m\u001b[1;33m]\u001b[0m\u001b[1;33m/\u001b[0m\u001b[0mnum_of_windows\u001b[0m\u001b[1;33m)\u001b[0m\u001b[1;33m\u001b[0m\u001b[0m\n\u001b[0;32m     30\u001b[0m     \u001b[0mb_mask\u001b[0m \u001b[1;33m=\u001b[0m \u001b[0mcreate_row_mask\u001b[0m\u001b[1;33m(\u001b[0m\u001b[1;33m[\u001b[0m\u001b[0mTrue\u001b[0m\u001b[1;33m,\u001b[0m \u001b[0mFalse\u001b[0m\u001b[1;33m,\u001b[0m \u001b[0mTrue\u001b[0m\u001b[1;33m,\u001b[0m \u001b[0mFalse\u001b[0m\u001b[1;33m,\u001b[0m \u001b[0mTrue\u001b[0m\u001b[1;33m]\u001b[0m\u001b[1;33m,\u001b[0m \u001b[0mmultiplier\u001b[0m\u001b[1;33m)\u001b[0m\u001b[1;33m\u001b[0m\u001b[0m\n\u001b[1;32m---> 31\u001b[1;33m     \u001b[0mdta_train_subset\u001b[0m \u001b[1;33m=\u001b[0m \u001b[0mdta_train_subset\u001b[0m\u001b[1;33m[\u001b[0m\u001b[0mb_mask\u001b[0m\u001b[1;33m,\u001b[0m \u001b[1;33m:\u001b[0m\u001b[1;33m]\u001b[0m\u001b[1;33m\u001b[0m\u001b[0m\n\u001b[0m\u001b[0;32m     32\u001b[0m     \u001b[0mlbl_train_subset\u001b[0m \u001b[1;33m=\u001b[0m \u001b[0mlbl_train\u001b[0m\u001b[1;33m[\u001b[0m\u001b[0mb_mask\u001b[0m\u001b[1;33m]\u001b[0m\u001b[1;33m\u001b[0m\u001b[0m\n\u001b[0;32m     33\u001b[0m     \u001b[1;32mprint\u001b[0m\u001b[1;33m(\u001b[0m\u001b[0mdta_train_subset\u001b[0m\u001b[1;33m.\u001b[0m\u001b[0mshape\u001b[0m\u001b[1;33m)\u001b[0m\u001b[1;33m\u001b[0m\u001b[0m\n",
      "\u001b[1;31mIndexError\u001b[0m: index 27 is out of bounds for axis 0 with size 27"
     ]
    }
   ],
   "source": [
    "use_1 = False \n",
    "\n",
    "if use_1:\n",
    "    print(\"Use set train_data_1 !\")\n",
    "    dta_train = train_data_1_r\n",
    "    lbl_train = train_labels_1_r\n",
    "    num_of_features = num_of_features_1\n",
    "    features = features1\n",
    "    num_of_windows = num_of_windows1\n",
    "else:\n",
    "    print(\"Use set train_data_2 !\")\n",
    "    dta_train = train_data_2_r\n",
    "    lbl_train = train_labels_2_r\n",
    "    num_of_features = num_of_features_2\n",
    "    features = features2\n",
    "    num_of_windows = num_of_windows2\n",
    "\n",
    "for d in np.arange(1, num_of_features):\n",
    "    clf = svm.SVC(kernel='linear', C=1)\n",
    "    selector = RFE(clf, n_features_to_select=d, step=1)\n",
    "    selector = selector.fit(dta_train, lbl_train)\n",
    "    support = selector.support_\n",
    "    feature_ranks = list(compress(features, support))\n",
    "    print(\"Keep feature(s) %s\" % \", \".join(feature_ranks))\n",
    "    print(support)\n",
    "    ranking = selector.ranking_\n",
    "    print(ranking)\n",
    "    dta_train_subset = dta_train[:, support]\n",
    "    multiplier = int(dta_train_subset.shape[0]/num_of_windows)\n",
    "    b_mask = create_row_mask([True, False, True, False, True], multiplier)\n",
    "    dta_train_subset = dta_train_subset[b_mask, :]\n",
    "    lbl_train_subset = lbl_train[b_mask]\n",
    "    print(dta_train_subset.shape)\n",
    "    \n",
    "    clf = svm.SVC(kernel='rbf', C=1)\n",
    "    scores_svm = cross_validation.cross_val_score(clf, dta_train_subset, lbl_train_subset, cv=3)\n",
    "    print(\"SVM - Accuracy: %0.2f (+/- %0.2f)\" % (scores_svm.mean(), scores_svm.std() * 2))\n",
    "    print(\"------------------------------------------------------------------\")"
   ]
  },
  {
   "cell_type": "code",
   "execution_count": 84,
   "metadata": {
    "collapsed": false
   },
   "outputs": [
    {
     "name": "stdout",
     "output_type": "stream",
     "text": [
      "(27, 1)\n",
      "features to keep int_squared_jerk\n",
      "SVM - Accuracy: 0.69 (+/- 0.45)\n",
      "------------------------------------------------------------------\n",
      "(27, 2)\n",
      "features to keep minf, int_squared_jerk\n",
      "SVM - Accuracy: 0.65 (+/- 0.58)\n",
      "------------------------------------------------------------------\n",
      "(27, 3)\n",
      "features to keep minf, int_squared_jerk, power_spec_entropy\n",
      "SVM - Accuracy: 0.61 (+/- 0.68)\n",
      "------------------------------------------------------------------\n",
      "(27, 4)\n",
      "features to keep minf, int_squared_jerk, energy, power_spec_entropy\n",
      "SVM - Accuracy: 0.67 (+/- 0.58)\n",
      "------------------------------------------------------------------\n",
      "(27, 5)\n",
      "features to keep minf, rms, int_squared_jerk, energy, power_spec_entropy\n",
      "SVM - Accuracy: 0.75 (+/- 0.44)\n",
      "------------------------------------------------------------------\n",
      "(27, 6)\n",
      "features to keep minf, mean, rms, int_squared_jerk, energy, power_spec_entropy\n",
      "SVM - Accuracy: 0.71 (+/- 0.60)\n",
      "------------------------------------------------------------------\n",
      "(27, 7)\n",
      "features to keep minf, mean, median, rms, int_squared_jerk, energy, power_spec_entropy\n",
      "SVM - Accuracy: 0.71 (+/- 0.43)\n",
      "------------------------------------------------------------------\n",
      "(27, 8)\n",
      "features to keep minf, mean, median, range, rms, int_squared_jerk, energy, power_spec_entropy\n",
      "SVM - Accuracy: 0.67 (+/- 0.58)\n",
      "------------------------------------------------------------------\n",
      "(27, 9)\n",
      "features to keep minf, maxf, mean, median, range, rms, int_squared_jerk, energy, power_spec_entropy\n",
      "SVM - Accuracy: 0.67 (+/- 0.58)\n",
      "------------------------------------------------------------------\n",
      "(27, 10)\n",
      "features to keep minf, maxf, mean, median, range, rms, int_squared_jerk, dc, energy, power_spec_entropy\n",
      "SVM - Accuracy: 0.62 (+/- 0.55)\n",
      "------------------------------------------------------------------\n"
     ]
    }
   ],
   "source": [
    "\n",
    "\n",
    "for d in np.arange(1, num_of_features):\n",
    "    # ANOVA SVM-C\n",
    "    # 1) anova filter, take X best ranked features, f_classif, mutual_info_classif\n",
    "    anova_filter = SelectKBest(f_classif, k=d)\n",
    "    \n",
    "    dta_train_subset = anova_filter.fit_transform(dta_train, lbl_train)\n",
    "    print(dta_train_subset.shape)\n",
    "    # keep selected feature names\n",
    "    feature_names = [features[i] for i\n",
    "                             in anova_filter.get_support(indices=True)]\n",
    "    print(\"features to keep %s\" % ', '.join(feature_names))\n",
    "    \n",
    "    # 2) svm\n",
    "    clf = svm.SVC(kernel='rbf', C=1)\n",
    "    scores_svm = cross_validation.cross_val_score(clf, dta_train_subset, lbl_train, cv=12)\n",
    "    print(\"SVM - Accuracy: %0.2f (+/- %0.2f)\" % (scores_svm.mean(), scores_svm.std() * 2))\n",
    "    print(\"------------------------------------------------------------------\")\n"
   ]
  },
  {
   "cell_type": "code",
   "execution_count": 81,
   "metadata": {
    "collapsed": false
   },
   "outputs": [
    {
     "name": "stdout",
     "output_type": "stream",
     "text": [
      "0.18\n"
     ]
    }
   ],
   "source": []
  },
  {
   "cell_type": "code",
   "execution_count": null,
   "metadata": {
    "collapsed": true
   },
   "outputs": [],
   "source": []
  }
 ],
 "metadata": {
  "kernelspec": {
   "display_name": "Python 2",
   "language": "python",
   "name": "python2"
  },
  "language_info": {
   "codemirror_mode": {
    "name": "ipython",
    "version": 2
   },
   "file_extension": ".py",
   "mimetype": "text/x-python",
   "name": "python",
   "nbconvert_exporter": "python",
   "pygments_lexer": "ipython2",
   "version": "2.7.12"
  }
 },
 "nbformat": 4,
 "nbformat_minor": 0
}
